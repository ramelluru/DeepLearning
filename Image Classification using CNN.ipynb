{
  "cells": [
    {
      "cell_type": "code",
      "execution_count": 1,
      "metadata": {
        "id": "2NoT7hxHmM1Q"
      },
      "outputs": [],
      "source": [
        "## Importinmg all the necessary libraries\n",
        "import keras\n",
        "from keras.models import Sequential\n",
        "from keras.preprocessing.image import ImageDataGenerator\n",
        "from keras.layers import Dense, Dropout, Flatten, BatchNormalization\n",
        "from keras.layers import Conv2D, MaxPool2D\n",
        "from keras import regularizers, initializers\n",
        "from keras.utils import np_utils\n",
        "import numpy as np\n",
        "import pandas as pd \n",
        "import matplotlib.pyplot as plt\n",
        "import tensorflow as tf\n",
        "from tensorflow.keras import datasets, layers, models"
      ]
    },
    {
      "cell_type": "code",
      "execution_count": 2,
      "metadata": {
        "colab": {
          "base_uri": "https://localhost:8080/",
          "height": 0
        },
        "id": "d7_5mNz7rA7i",
        "outputId": "c6e6352d-0d82-485c-c1c9-0a22de793f8e"
      },
      "outputs": [
        {
          "output_type": "stream",
          "name": "stdout",
          "text": [
            "Downloading data from https://www.cs.toronto.edu/~kriz/cifar-10-python.tar.gz\n",
            "170500096/170498071 [==============================] - 13s 0us/step\n",
            "170508288/170498071 [==============================] - 13s 0us/step\n"
          ]
        }
      ],
      "source": [
        "# Importing the CIFAR dataset using Keras library\n",
        "from keras.datasets import cifar10\n",
        "(x_train, y_train), (x_test,y_test) = keras.datasets.cifar10.load_data()"
      ]
    },
    {
      "cell_type": "code",
      "execution_count": 3,
      "metadata": {
        "id": "iFp_-vWlrIlr"
      },
      "outputs": [],
      "source": [
        "## Refining data\n",
        "y_train = y_train.reshape(-1,)\n",
        "x_train=x_train/255.0\n",
        "y_test = y_test.reshape(-1,)\n",
        "x_test=x_test/255.0"
      ]
    },
    {
      "cell_type": "code",
      "execution_count": 4,
      "metadata": {
        "id": "tmpgKSdqs9DI"
      },
      "outputs": [],
      "source": [
        "## Building the model with the necessary paramaters\n",
        "model = Sequential()\n",
        "model.add(Conv2D(filters=64, kernel_size=5, activation=\"relu\", input_shape=[32, 32, 3]))\n",
        "model.add(Conv2D(filters=64, kernel_size=5, activation=\"relu\"))\n",
        "model.add(MaxPool2D((2,2), strides=2))\n",
        "model.add(Dropout(0.2))\n",
        "model.add(Flatten())\n",
        "model.add(Dense(units=384, activation='relu'))\n",
        "model.add(Dense(192, activation='relu'))\n",
        "model.add(Dense(units=10, activation='softmax'))\n"
      ]
    },
    {
      "cell_type": "code",
      "execution_count": 5,
      "metadata": {
        "id": "VR5WNQhG-YSb"
      },
      "outputs": [],
      "source": [
        "## Adding Data Augmentation layers\n",
        "datagen = tf.keras.preprocessing.image.ImageDataGenerator(\n",
        "        rotation_range=30, \n",
        "        zoom_range = 0.2, \n",
        "        width_shift_range=0.1,  \n",
        "        height_shift_range=0.1,)"
      ]
    },
    {
      "cell_type": "code",
      "execution_count": 6,
      "metadata": {
        "colab": {
          "base_uri": "https://localhost:8080/",
          "height": 0
        },
        "id": "SeCN0VfMtz3J",
        "outputId": "58274f79-ac04-49d9-9d89-cc229decfe4b"
      },
      "outputs": [
        {
          "output_type": "stream",
          "name": "stderr",
          "text": [
            "/usr/local/lib/python3.7/dist-packages/keras/optimizer_v2/adam.py:105: UserWarning: The `lr` argument is deprecated, use `learning_rate` instead.\n",
            "  super(Adam, self).__init__(name, **kwargs)\n"
          ]
        },
        {
          "output_type": "stream",
          "name": "stdout",
          "text": [
            "Epoch 1/30\n"
          ]
        },
        {
          "output_type": "stream",
          "name": "stderr",
          "text": [
            "/usr/local/lib/python3.7/dist-packages/ipykernel_launcher.py:3: UserWarning: `Model.fit_generator` is deprecated and will be removed in a future version. Please use `Model.fit`, which supports generators.\n",
            "  This is separate from the ipykernel package so we can avoid doing imports until\n"
          ]
        },
        {
          "output_type": "stream",
          "name": "stdout",
          "text": [
            "782/782 [==============================] - 37s 34ms/step - loss: 1.6871 - accuracy: 0.3856 - val_loss: 1.3521 - val_accuracy: 0.5172\n",
            "Epoch 2/30\n",
            "782/782 [==============================] - 27s 35ms/step - loss: 1.4451 - accuracy: 0.4809 - val_loss: 1.1880 - val_accuracy: 0.5707\n",
            "Epoch 3/30\n",
            "782/782 [==============================] - 26s 33ms/step - loss: 1.3368 - accuracy: 0.5221 - val_loss: 1.1206 - val_accuracy: 0.5945\n",
            "Epoch 4/30\n",
            "782/782 [==============================] - 26s 34ms/step - loss: 1.2716 - accuracy: 0.5476 - val_loss: 1.0925 - val_accuracy: 0.6110\n",
            "Epoch 5/30\n",
            "782/782 [==============================] - 26s 34ms/step - loss: 1.2215 - accuracy: 0.5664 - val_loss: 1.0504 - val_accuracy: 0.6267\n",
            "Epoch 6/30\n",
            "782/782 [==============================] - 26s 33ms/step - loss: 1.1688 - accuracy: 0.5867 - val_loss: 0.9861 - val_accuracy: 0.6550\n",
            "Epoch 7/30\n",
            "782/782 [==============================] - 25s 33ms/step - loss: 1.1325 - accuracy: 0.5974 - val_loss: 0.9897 - val_accuracy: 0.6427\n",
            "Epoch 8/30\n",
            "782/782 [==============================] - 26s 33ms/step - loss: 1.1213 - accuracy: 0.6040 - val_loss: 0.9329 - val_accuracy: 0.6708\n",
            "Epoch 9/30\n",
            "782/782 [==============================] - 26s 34ms/step - loss: 1.0833 - accuracy: 0.6175 - val_loss: 0.9568 - val_accuracy: 0.6661\n",
            "Epoch 10/30\n",
            "782/782 [==============================] - 27s 34ms/step - loss: 1.0604 - accuracy: 0.6251 - val_loss: 0.9180 - val_accuracy: 0.6788\n",
            "Epoch 11/30\n",
            "782/782 [==============================] - 26s 33ms/step - loss: 1.0403 - accuracy: 0.6337 - val_loss: 0.9350 - val_accuracy: 0.6725\n",
            "Epoch 12/30\n",
            "782/782 [==============================] - 26s 34ms/step - loss: 1.0238 - accuracy: 0.6406 - val_loss: 0.9492 - val_accuracy: 0.6767\n",
            "Epoch 13/30\n",
            "782/782 [==============================] - 26s 33ms/step - loss: 1.0108 - accuracy: 0.6395 - val_loss: 0.8893 - val_accuracy: 0.6892\n",
            "Epoch 14/30\n",
            "782/782 [==============================] - 26s 33ms/step - loss: 0.9980 - accuracy: 0.6470 - val_loss: 0.8870 - val_accuracy: 0.6942\n",
            "Epoch 15/30\n",
            "782/782 [==============================] - 25s 32ms/step - loss: 0.9762 - accuracy: 0.6554 - val_loss: 0.8829 - val_accuracy: 0.6913\n",
            "Epoch 16/30\n",
            "782/782 [==============================] - 26s 34ms/step - loss: 0.9662 - accuracy: 0.6594 - val_loss: 0.8758 - val_accuracy: 0.6941\n",
            "Epoch 17/30\n",
            "782/782 [==============================] - 25s 32ms/step - loss: 0.9549 - accuracy: 0.6628 - val_loss: 0.9098 - val_accuracy: 0.6927\n",
            "Epoch 18/30\n",
            "782/782 [==============================] - 26s 33ms/step - loss: 0.9510 - accuracy: 0.6658 - val_loss: 0.8872 - val_accuracy: 0.6994\n",
            "Epoch 19/30\n",
            "782/782 [==============================] - 27s 34ms/step - loss: 0.9402 - accuracy: 0.6691 - val_loss: 0.8720 - val_accuracy: 0.6942\n",
            "Epoch 20/30\n",
            "782/782 [==============================] - 26s 33ms/step - loss: 0.9262 - accuracy: 0.6761 - val_loss: 0.8811 - val_accuracy: 0.6984\n",
            "Epoch 21/30\n",
            "782/782 [==============================] - 26s 33ms/step - loss: 0.9202 - accuracy: 0.6743 - val_loss: 0.9039 - val_accuracy: 0.6916\n",
            "Epoch 22/30\n",
            "782/782 [==============================] - 26s 34ms/step - loss: 0.9080 - accuracy: 0.6809 - val_loss: 0.8487 - val_accuracy: 0.7126\n",
            "Epoch 23/30\n",
            "782/782 [==============================] - 25s 33ms/step - loss: 0.8974 - accuracy: 0.6840 - val_loss: 0.8455 - val_accuracy: 0.7076\n",
            "Epoch 24/30\n",
            "782/782 [==============================] - 26s 33ms/step - loss: 0.8948 - accuracy: 0.6860 - val_loss: 0.8384 - val_accuracy: 0.7138\n",
            "Epoch 25/30\n",
            "782/782 [==============================] - 26s 33ms/step - loss: 0.8924 - accuracy: 0.6864 - val_loss: 0.8458 - val_accuracy: 0.7102\n",
            "Epoch 26/30\n",
            "782/782 [==============================] - 26s 33ms/step - loss: 0.8780 - accuracy: 0.6893 - val_loss: 0.9003 - val_accuracy: 0.7011\n",
            "Epoch 27/30\n",
            "782/782 [==============================] - 26s 33ms/step - loss: 0.8733 - accuracy: 0.6907 - val_loss: 0.8314 - val_accuracy: 0.7182\n",
            "Epoch 28/30\n",
            "782/782 [==============================] - 26s 33ms/step - loss: 0.8730 - accuracy: 0.6893 - val_loss: 0.8151 - val_accuracy: 0.7227\n",
            "Epoch 29/30\n",
            "782/782 [==============================] - 26s 34ms/step - loss: 0.8565 - accuracy: 0.6979 - val_loss: 0.8061 - val_accuracy: 0.7262\n",
            "Epoch 30/30\n",
            "782/782 [==============================] - 26s 33ms/step - loss: 0.8626 - accuracy: 0.6977 - val_loss: 0.8657 - val_accuracy: 0.7077\n"
          ]
        }
      ],
      "source": [
        "# Compiling and Fitting the model\n",
        "model.compile(optimizer= tf.keras.optimizers.Adam(lr=0.001), loss='sparse_categorical_crossentropy', metrics=['accuracy'])\n",
        "history = model.fit_generator(datagen.flow(x_train, y_train,batch_size=64),validation_data=(x_test, y_test),epochs=30)"
      ]
    },
    {
      "cell_type": "code",
      "execution_count": 7,
      "metadata": {
        "colab": {
          "base_uri": "https://localhost:8080/",
          "height": 252
        },
        "id": "L9X1qokSbLT9",
        "outputId": "b9e93751-40f2-4201-9b32-0053028a78ea"
      },
      "outputs": [
        {
          "output_type": "display_data",
          "data": {
            "text/plain": [
              "<Figure size 432x288 with 15 Axes>"
            ],
            "image/png": "[encoded data removed]"
          },
          "metadata": {}
        }
      ],
      "source": [
        "## Getting the weights of First Convolution layer\n",
        "filters, biases = model.layers[0].get_weights()\n",
        "\n",
        "# normalize filter values to 0-1 so we can visualize them\n",
        "f_min, f_max = filters.min(), filters.max()\n",
        "filters = (filters - f_min) / (f_max - f_min)\n",
        "# plot first few filters\n",
        "n_filters, ix = 5, 1\n",
        "for i in range(n_filters):\n",
        "\t# get the filter\n",
        "\tf = filters[:, :, :, i]\n",
        "\t# plot each channel separately\n",
        "\tfor j in range(3):\n",
        "\t\t# specify subplot and turn of axis\n",
        "\t\tax = plt.subplot(n_filters, 3, ix)\n",
        "\t\tax.set_xticks([])\n",
        "\t\tax.set_yticks([])\n",
        "\t\t# plot filter channel in grayscale\n",
        "\t\tplt.imshow(f[:, :, j], cmap='gray')\n",
        "\t\tix += 1\n",
        "# show the figure\n",
        "plt.show()"
      ]
    },
    {
      "cell_type": "code",
      "execution_count": 8,
      "metadata": {
        "colab": {
          "base_uri": "https://localhost:8080/",
          "height": 252
        },
        "id": "dCfBwm-gmdjz",
        "outputId": "5acaa5cf-9895-4118-a4c8-46fe98bb7654"
      },
      "outputs": [
        {
          "output_type": "display_data",
          "data": {
            "text/plain": [
              "<Figure size 432x288 with 15 Axes>"
            ],
            "image/png": "[encoded data removed]"
          },
          "metadata": {}
        }
      ],
      "source": [
        "## Getting the weights of Second Convolution layer\n",
        "filters, biases = model.layers[1].get_weights()\n",
        "\n",
        "\n",
        "f_min, f_max = filters.min(), filters.max()\n",
        "filters = (filters - f_min) / (f_max - f_min)\n",
        "# plot first five filters\n",
        "n_filters, ix = 5, 1\n",
        "for i in range(n_filters):\n",
        "\tf = filters[:, :, :, i]\n",
        "\tfor j in range(3):\n",
        "\t\tax = plt.subplot(n_filters, 3, ix)\n",
        "\t\tax.set_xticks([])\n",
        "\t\tax.set_yticks([])\n",
        "\t\tplt.imshow(f[:, :, j], cmap='gray')\n",
        "\t\tix += 1\n",
        "plt.show()"
      ]
    },
    {
      "cell_type": "code",
      "execution_count": 9,
      "metadata": {
        "colab": {
          "base_uri": "https://localhost:8080/",
          "height": 608
        },
        "id": "LfPe4eQ5gPB_",
        "outputId": "4220aa7f-9ff1-4839-83d9-c69cbad2cdb6"
      },
      "outputs": [
        {
          "output_type": "display_data",
          "data": {
            "text/plain": [
              "<Figure size 432x288 with 1 Axes>"
            ],
            "image/png": "[encoded data removed]"
          },
          "metadata": {
            "needs_background": "light"
          }
        },
        {
          "output_type": "display_data",
          "data": {
            "text/plain": [
              "<Figure size 432x288 with 1 Axes>"
            ],
            "image/png": "[encoded data removed]"
          },
          "metadata": {
            "needs_background": "light"
          }
        },
        {
          "output_type": "stream",
          "name": "stdout",
          "text": [
            "313/313 [==============================] - 1s 4ms/step - loss: 0.8657 - accuracy: 0.7077\n",
            "Testing Accuracy:  70.77000141143799\n"
          ]
        }
      ],
      "source": [
        "# Plotting the Accuracy and losses \n",
        "plt.plot(history.history['accuracy'])\n",
        "plt.plot(history.history['val_accuracy'])\n",
        "plt.title('Training and Testing Accuracy')\n",
        "plt.xlabel('Epochs')\n",
        "plt.ylabel('Accuracy')\n",
        "plt.show()\n",
        "plt.plot(history.history['loss'])\n",
        "plt.plot(history.history['val_loss'])\n",
        "plt.title('Training and Testing loss')\n",
        "plt.xlabel('Epochs')\n",
        "plt.ylabel('loss')\n",
        "plt.show()\n",
        "loss1, test_accuracy = model.evaluate(x_test,y_test, batch_size=None)\n",
        "print('Testing Accuracy: ',(test_accuracy*100))"
      ]
    },
    {
      "cell_type": "code",
      "execution_count": 10,
      "metadata": {
        "id": "Pd06UerIu8RU"
      },
      "outputs": [],
      "source": [
        "# Converting to gray scale\n",
        "def grayscale(data, dtype='float32'):\n",
        "    r, g, b = np.asarray(.3, dtype=dtype), np.asarray(.59, dtype=dtype), np.asarray(.11, dtype=dtype)\n",
        "    rst = r * data[:, :, :, 0] + g * data[:, :, :, 1] + b * data[:, :, :, 2]\n",
        "    rst = np.expand_dims(rst, axis=3)\n",
        "    return rst\n",
        "\n",
        "x_train_gray = grayscale(x_train)\n",
        "x_test_gray = grayscale(x_test)\n"
      ]
    },
    {
      "cell_type": "code",
      "execution_count": 11,
      "metadata": {
        "id": "cG3EeJei_wI2"
      },
      "outputs": [],
      "source": [
        "# Building model with necessary paramters\n",
        "model = Sequential()\n",
        "model.add(Conv2D(filters=64, kernel_size=(5,5), activation='relu', input_shape=(32, 32, 1)))\n",
        "model.add(Conv2D(filters=64, kernel_size=(5,5), activation='relu'))\n",
        "model.add(MaxPool2D((2,2), strides=2))\n",
        "model.add(Dropout(0.2))\n",
        "model.add(Flatten())\n",
        "model.add(Dense(units=384, activation='relu'))\n",
        "model.add(Dense(192, activation='relu'))\n",
        "model.add(Dense(units=10, activation='softmax'))\n",
        "\n"
      ]
    },
    {
      "cell_type": "code",
      "execution_count": 12,
      "metadata": {
        "id": "N5Jz-nyfCKWw"
      },
      "outputs": [],
      "source": [
        "datagen = tf.keras.preprocessing.image.ImageDataGenerator(\n",
        "        rotation_range=30, \n",
        "        zoom_range = 0.2, \n",
        "        width_shift_range=0.1,  \n",
        "        height_shift_range=0.1,)"
      ]
    },
    {
      "cell_type": "code",
      "execution_count": 13,
      "metadata": {
        "colab": {
          "base_uri": "https://localhost:8080/",
          "height": 0
        },
        "id": "oMzsaLTB_7Zo",
        "outputId": "82676ec8-7f50-4a7e-ded2-19fb72bbdc9f"
      },
      "outputs": [
        {
          "output_type": "stream",
          "name": "stdout",
          "text": [
            "Epoch 1/30\n"
          ]
        },
        {
          "output_type": "stream",
          "name": "stderr",
          "text": [
            "/usr/local/lib/python3.7/dist-packages/keras/optimizer_v2/adam.py:105: UserWarning: The `lr` argument is deprecated, use `learning_rate` instead.\n",
            "  super(Adam, self).__init__(name, **kwargs)\n",
            "/usr/local/lib/python3.7/dist-packages/ipykernel_launcher.py:2: UserWarning: `Model.fit_generator` is deprecated and will be removed in a future version. Please use `Model.fit`, which supports generators.\n",
            "  \n"
          ]
        },
        {
          "output_type": "stream",
          "name": "stdout",
          "text": [
            "782/782 [==============================] - 17s 21ms/step - loss: 1.8618 - accuracy: 0.3253 - val_loss: 1.5901 - val_accuracy: 0.4235\n",
            "Epoch 2/30\n",
            "782/782 [==============================] - 16s 21ms/step - loss: 1.6313 - accuracy: 0.4173 - val_loss: 1.3964 - val_accuracy: 0.5013\n",
            "Epoch 3/30\n",
            "782/782 [==============================] - 17s 21ms/step - loss: 1.5183 - accuracy: 0.4616 - val_loss: 1.3361 - val_accuracy: 0.5283\n",
            "Epoch 4/30\n",
            "782/782 [==============================] - 16s 21ms/step - loss: 1.4380 - accuracy: 0.4942 - val_loss: 1.2750 - val_accuracy: 0.5553\n",
            "Epoch 5/30\n",
            "782/782 [==============================] - 16s 20ms/step - loss: 1.3838 - accuracy: 0.5136 - val_loss: 1.1921 - val_accuracy: 0.5797\n",
            "Epoch 6/30\n",
            "782/782 [==============================] - 17s 21ms/step - loss: 1.3344 - accuracy: 0.5322 - val_loss: 1.2293 - val_accuracy: 0.5815\n",
            "Epoch 7/30\n",
            "782/782 [==============================] - 16s 21ms/step - loss: 1.3045 - accuracy: 0.5418 - val_loss: 1.0472 - val_accuracy: 0.6303\n",
            "Epoch 8/30\n",
            "782/782 [==============================] - 16s 21ms/step - loss: 1.2736 - accuracy: 0.5560 - val_loss: 1.1067 - val_accuracy: 0.6113\n",
            "Epoch 9/30\n",
            "782/782 [==============================] - 16s 21ms/step - loss: 1.2487 - accuracy: 0.5607 - val_loss: 1.0836 - val_accuracy: 0.6165\n",
            "Epoch 10/30\n",
            "782/782 [==============================] - 16s 21ms/step - loss: 1.2176 - accuracy: 0.5740 - val_loss: 1.0477 - val_accuracy: 0.6364\n",
            "Epoch 11/30\n",
            "782/782 [==============================] - 17s 21ms/step - loss: 1.2052 - accuracy: 0.5800 - val_loss: 1.0175 - val_accuracy: 0.6444\n",
            "Epoch 12/30\n",
            "782/782 [==============================] - 16s 21ms/step - loss: 1.1868 - accuracy: 0.5841 - val_loss: 0.9880 - val_accuracy: 0.6569\n",
            "Epoch 13/30\n",
            "782/782 [==============================] - 17s 21ms/step - loss: 1.1649 - accuracy: 0.5913 - val_loss: 1.1151 - val_accuracy: 0.6203\n",
            "Epoch 14/30\n",
            "782/782 [==============================] - 16s 21ms/step - loss: 1.1530 - accuracy: 0.5972 - val_loss: 0.9992 - val_accuracy: 0.6560\n",
            "Epoch 15/30\n",
            "782/782 [==============================] - 16s 21ms/step - loss: 1.1401 - accuracy: 0.6011 - val_loss: 0.9693 - val_accuracy: 0.6658\n",
            "Epoch 16/30\n",
            "782/782 [==============================] - 17s 21ms/step - loss: 1.1205 - accuracy: 0.6081 - val_loss: 0.9618 - val_accuracy: 0.6664\n",
            "Epoch 17/30\n",
            "782/782 [==============================] - 16s 21ms/step - loss: 1.1100 - accuracy: 0.6137 - val_loss: 0.9748 - val_accuracy: 0.6651\n",
            "Epoch 18/30\n",
            "782/782 [==============================] - 17s 21ms/step - loss: 1.1023 - accuracy: 0.6169 - val_loss: 1.0007 - val_accuracy: 0.6544\n",
            "Epoch 19/30\n",
            "782/782 [==============================] - 16s 20ms/step - loss: 1.0922 - accuracy: 0.6188 - val_loss: 0.9830 - val_accuracy: 0.6601\n",
            "Epoch 20/30\n",
            "782/782 [==============================] - 16s 20ms/step - loss: 1.0846 - accuracy: 0.6220 - val_loss: 1.0051 - val_accuracy: 0.6567\n",
            "Epoch 21/30\n",
            "782/782 [==============================] - 16s 21ms/step - loss: 1.0747 - accuracy: 0.6234 - val_loss: 0.9848 - val_accuracy: 0.6632\n",
            "Epoch 22/30\n",
            "782/782 [==============================] - 16s 21ms/step - loss: 1.0691 - accuracy: 0.6262 - val_loss: 0.9980 - val_accuracy: 0.6607\n",
            "Epoch 23/30\n",
            "782/782 [==============================] - 16s 21ms/step - loss: 1.0638 - accuracy: 0.6291 - val_loss: 0.9186 - val_accuracy: 0.6847\n",
            "Epoch 24/30\n",
            "782/782 [==============================] - 16s 21ms/step - loss: 1.0537 - accuracy: 0.6322 - val_loss: 0.9496 - val_accuracy: 0.6751\n",
            "Epoch 25/30\n",
            "782/782 [==============================] - 16s 21ms/step - loss: 1.0460 - accuracy: 0.6351 - val_loss: 0.9738 - val_accuracy: 0.6709\n",
            "Epoch 26/30\n",
            "782/782 [==============================] - 17s 21ms/step - loss: 1.0333 - accuracy: 0.6401 - val_loss: 0.9655 - val_accuracy: 0.6769\n",
            "Epoch 27/30\n",
            "782/782 [==============================] - 16s 21ms/step - loss: 1.0251 - accuracy: 0.6418 - val_loss: 1.0710 - val_accuracy: 0.6430\n",
            "Epoch 28/30\n",
            "782/782 [==============================] - 16s 20ms/step - loss: 1.0275 - accuracy: 0.6413 - val_loss: 1.0061 - val_accuracy: 0.6617\n",
            "Epoch 29/30\n",
            "782/782 [==============================] - 16s 21ms/step - loss: 1.0244 - accuracy: 0.6433 - val_loss: 0.8942 - val_accuracy: 0.6901\n",
            "Epoch 30/30\n",
            "782/782 [==============================] - 16s 21ms/step - loss: 1.0193 - accuracy: 0.6471 - val_loss: 0.9945 - val_accuracy: 0.6649\n"
          ]
        }
      ],
      "source": [
        "model.compile(optimizer= tf.keras.optimizers.Adam(lr=0.001), loss='sparse_categorical_crossentropy', metrics=['accuracy'])\n",
        "history = model.fit_generator(datagen.flow(x_train_gray, y_train,batch_size=64),validation_data=(x_test_gray, y_test),epochs=30)"
      ]
    },
    {
      "cell_type": "code",
      "execution_count": 14,
      "metadata": {
        "colab": {
          "base_uri": "https://localhost:8080/",
          "height": 72
        },
        "id": "OywOLaLE7_a5",
        "outputId": "c0998b71-8ec4-4d94-9808-662d2ad146c4"
      },
      "outputs": [
        {
          "output_type": "display_data",
          "data": {
            "text/plain": [
              "<Figure size 432x288 with 5 Axes>"
            ],
            "image/png": "[encoded data removed]"
          },
          "metadata": {}
        }
      ],
      "source": [
        "# Getting weights of first convolution layer and plotting the first five filters\n",
        "filters, biases = model.layers[0].get_weights()\n",
        "f_min, f_max = filters.min(), filters.max()\n",
        "filters = (filters - f_min) / (f_max - f_min)\n",
        "n_filters, ix = 5, 1\n",
        "for i in range(n_filters):\n",
        "\tf = filters[:, :, :, i]\n",
        "\tfor j in range(1):\n",
        "\t\tax = plt.subplot(n_filters, 5, ix)\n",
        "\t\tax.set_xticks([])\n",
        "\t\tax.set_yticks([])\n",
        "\t\tplt.imshow(f[:, :, j], cmap='gray')\n",
        "\t\tix += 1\n",
        "plt.show()"
      ]
    },
    {
      "cell_type": "code",
      "execution_count": 15,
      "metadata": {
        "colab": {
          "base_uri": "https://localhost:8080/",
          "height": 72
        },
        "id": "1uJ6vhIToF_A",
        "outputId": "66c2cc58-d63f-4f95-a0e2-ef89832c5432"
      },
      "outputs": [
        {
          "output_type": "display_data",
          "data": {
            "text/plain": [
              "<Figure size 432x288 with 5 Axes>"
            ],
            "image/png": "[encoded data removed]"
          },
          "metadata": {}
        }
      ],
      "source": [
        "# Getting weights of second convolution layer and plotting the first five filters\n",
        "filters, biases = model.layers[1].get_weights()\n",
        "f_min, f_max = filters.min(), filters.max()\n",
        "filters = (filters - f_min) / (f_max - f_min)\n",
        "n_filters, ix = 5, 1\n",
        "for i in range(n_filters):\n",
        "\tf = filters[:, :, :, i]\n",
        "\tfor j in range(1):\n",
        "\t\tax = plt.subplot(n_filters, 5, ix)\n",
        "\t\tax.set_xticks([])\n",
        "\t\tax.set_yticks([])\n",
        "\t\tplt.imshow(f[:, :, j], cmap='gray')\n",
        "\t\tix += 1\n",
        "plt.show()"
      ]
    },
    {
      "cell_type": "code",
      "execution_count": 17,
      "metadata": {
        "colab": {
          "base_uri": "https://localhost:8080/",
          "height": 608
        },
        "id": "zkhfLd6zEf43",
        "outputId": "f1f3e1b2-ca08-43b0-fcac-f1b92d7aaa46"
      },
      "outputs": [
        {
          "output_type": "display_data",
          "data": {
            "text/plain": [
              "<Figure size 432x288 with 1 Axes>"
            ],
            "image/png": "[encoded data removed]"
          },
          "metadata": {
            "needs_background": "light"
          }
        },
        {
          "output_type": "display_data",
          "data": {
            "text/plain": [
              "<Figure size 432x288 with 1 Axes>"
            ],
            "image/png": "[encoded data removed]"
          },
          "metadata": {
            "needs_background": "light"
          }
        },
        {
          "output_type": "stream",
          "name": "stdout",
          "text": [
            "313/313 [==============================] - 2s 5ms/step - loss: 0.9945 - accuracy: 0.6649\n",
            "Test accuracy= 66.4900004863739\n"
          ]
        }
      ],
      "source": [
        "# Plotting the Training and Testing Accuracy and losses.\n",
        "plt.plot(history.history['accuracy'])\n",
        "plt.plot(history.history['val_accuracy'])\n",
        "plt.title('Training and Testing Accuracy')\n",
        "plt.xlabel('Epochs')\n",
        "plt.ylabel('Accuracy')\n",
        "plt.show()\n",
        "plt.plot(history.history['loss'])\n",
        "plt.plot(history.history['val_loss'])\n",
        "plt.title('Training and Testing loss')\n",
        "plt.xlabel('Epochs')\n",
        "plt.ylabel('loss')\n",
        "plt.show()\n",
        "loss_gray, test_accuracy_gray = model.evaluate(x_test_gray,y_test, batch_size=None)\n",
        "print('Test accuracy=',(test_accuracy_gray*100))"
      ]
    },
    {
      "cell_type": "code",
      "execution_count": null,
      "metadata": {
        "id": "PqO_NSf8JsU7"
      },
      "outputs": [],
      "source": [
        ""
      ]
    }
  ],
  "metadata": {
    "colab": {
      "collapsed_sections": [],
      "name": "Elluru_R_HW3.ipynb",
      "provenance": []
    },
    "kernelspec": {
      "display_name": "Python 3",
      "name": "python3"
    },
    "language_info": {
      "name": "python"
    },
    "accelerator": "GPU"
  },
  "nbformat": 4,
  "nbformat_minor": 0
}