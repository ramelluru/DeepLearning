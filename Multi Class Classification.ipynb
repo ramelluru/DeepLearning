{
  "nbformat": 4,
  "nbformat_minor": 0,
  "metadata": {
    "colab": {
      "name": "Elluru_R_HW2.ipynb",
      "provenance": [],
      "collapsed_sections": []
    },
    "kernelspec": {
      "name": "python3",
      "display_name": "Python 3"
    },
    "language_info": {
      "name": "python"
    }
  },
  "cells": [
    {
      "cell_type": "code",
      "execution_count": null,
      "metadata": {
        "id": "Ntkoix9tpUTp"
      },
      "outputs": [],
      "source": [
        "# Importing Libraries\n",
        "import numpy as np\n",
        "import pandas as pd \n",
        "from sklearn.preprocessing import MinMaxScaler\n",
        "from sklearn.model_selection import train_test_split\n",
        "from sklearn.preprocessing import LabelEncoder\n",
        "from keras.utils import np_utils\n",
        "import tensorflow as tf\n",
        "import keras\n",
        "from keras.models import Sequential\n",
        "from keras.layers import Dense,Dropout, Activation\n",
        "from keras import regularizers, initializers\n",
        "import matplotlib.pyplot as plt "
      ]
    },
    {
      "cell_type": "code",
      "source": [
        "# Loading data\n",
        "data=pd.read_csv('data_hw2.csv')\n",
        "xdata=data.iloc[:,0:-1]\n",
        "xnorm=((xdata-xdata.min(axis=0))/(xdata.max(axis=0)-xdata.min(axis=0)))\n",
        "ydata=data['Y']\n",
        "x0=pd.DataFrame(np.ones((700, 1)))\n",
        "xnorm.insert(0,'A0',1)\n",
        "x=xnorm.replace(np.nan,0)\n",
        "encoder = LabelEncoder()\n",
        "encod=encoder.fit_transform(ydata)\n",
        "y = np_utils.to_categorical(encod)\n",
        "# Splitting Data\n",
        "x_train, x_test, y_train, y_test = train_test_split(x, y, train_size=2000,test_size=300,shuffle=False)"
      ],
      "metadata": {
        "id": "3m5eg6rpqgjF"
      },
      "execution_count": 80,
      "outputs": []
    },
    {
      "cell_type": "code",
      "source": [
        "print('Single hidden layer')\n",
        "hiddenlsize=[5,25]\n",
        "accuracylist=[]\n",
        "a=[]\n",
        "input_size = 20\n",
        "for j in range(len(hiddenlsize)):\n",
        "    print('Size of Input layer:',input_size)\n",
        "    print('Size of Hidden layer',hiddenlsize[j])\n",
        "    for i in range (1,10):\n",
        "        regularizer= regularizers.l2(l=0.1)\n",
        "        initial= initializers.glorot_uniform(seed=None)\n",
        "        model=Sequential() \n",
        "        # creating the model\n",
        "        model.add(Dense(hiddenlsize[j], activation='relu', kernel_regularizer=regularizer, input_shape=(20,), kernel_initializer=initial)) #1st hidden layer with 20 inputs\n",
        "        model.add(Dense(7, activation='softmax'))\n",
        "        custom_optimizer = tf.keras.optimizers.Adam(learning_rate=0.1)\n",
        "        # Compiling the model\n",
        "        model.compile(optimizer=custom_optimizer, loss='categorical_crossentropy', metrics=['accuracy'])\n",
        "        model.fit(x_train, y_train, epochs=100, batch_size=100, verbose=0 )\n",
        "        loss, accuracy = model.evaluate(x_test,y_test, batch_size=None)\n",
        "        accuracylist.append(accuracy)\n",
        "    Accuracy=np.mean(accuracylist)\n",
        "    a.append(Accuracy)\n",
        "    print('Average Test_accuracy: ',Accuracy,'when the size of hidden layer is:',hiddenlsize[j])"
      ],
      "metadata": {
        "colab": {
          "base_uri": "https://localhost:8080/"
        },
        "id": "IToPu85DAv24",
        "outputId": "bfc35de6-b423-42e4-ad52-f02a0cd3c82e"
      },
      "execution_count": 81,
      "outputs": [
        {
          "output_type": "stream",
          "name": "stdout",
          "text": [
            "Single hidden layer\n",
            "Size of Input layer: 20\n",
            "Size of Hidden layer 5\n",
            "10/10 [==============================] - 0s 2ms/step - loss: 0.6369 - accuracy: 0.8167\n",
            "10/10 [==============================] - 0s 2ms/step - loss: 0.7941 - accuracy: 0.7133\n",
            "10/10 [==============================] - 0s 2ms/step - loss: 0.5644 - accuracy: 0.8733\n",
            "10/10 [==============================] - 0s 2ms/step - loss: 0.5128 - accuracy: 0.8933\n",
            "10/10 [==============================] - 0s 2ms/step - loss: 0.5517 - accuracy: 0.8933\n",
            "10/10 [==============================] - 0s 2ms/step - loss: 0.5471 - accuracy: 0.8667\n",
            "10/10 [==============================] - 0s 2ms/step - loss: 0.5770 - accuracy: 0.8167\n",
            "10/10 [==============================] - 0s 2ms/step - loss: 0.5743 - accuracy: 0.8500\n",
            "10/10 [==============================] - 0s 2ms/step - loss: 0.7358 - accuracy: 0.7833\n",
            "Average Test_accuracy:  0.8340740733676486 when the size of hidden layer is: 5\n",
            "Size of Input layer: 20\n",
            "Size of Hidden layer 25\n",
            "10/10 [==============================] - 0s 2ms/step - loss: 0.5106 - accuracy: 0.8900\n",
            "10/10 [==============================] - 0s 2ms/step - loss: 0.5625 - accuracy: 0.8533\n",
            "10/10 [==============================] - 0s 2ms/step - loss: 0.5915 - accuracy: 0.8633\n",
            "10/10 [==============================] - 0s 2ms/step - loss: 0.4787 - accuracy: 0.9000\n",
            "10/10 [==============================] - 0s 2ms/step - loss: 0.5246 - accuracy: 0.8900\n",
            "10/10 [==============================] - 0s 2ms/step - loss: 0.6656 - accuracy: 0.8100\n",
            "10/10 [==============================] - 0s 2ms/step - loss: 1.5699 - accuracy: 0.6533\n",
            "10/10 [==============================] - 0s 2ms/step - loss: 0.5055 - accuracy: 0.8833\n",
            "10/10 [==============================] - 0s 2ms/step - loss: 0.5507 - accuracy: 0.8767\n",
            "Average Test_accuracy:  0.840370366970698 when the size of hidden layer is: 25\n"
          ]
        }
      ]
    },
    {
      "cell_type": "code",
      "source": [
        "print('Two hidden layer')\n",
        "hiddenlsize=[5,25]\n",
        "accuracylist1=[]\n",
        "a1=[]\n",
        "inputsize = 20\n",
        "for j in range(len(hiddenlsize)):\n",
        "    print('Size of Input layer:',inputsize)\n",
        "    print('Size of Hidden layer',hiddenlsize[j])\n",
        "    for i in range (1,10):\n",
        "        r= regularizers.l2(l=0.1)\n",
        "        initial= initializers.glorot_uniform(seed=None)\n",
        "        model=Sequential() \n",
        "        model.add(Dense(hiddenlsize[j], activation='relu', kernel_regularizer=r, input_shape=(20,), kernel_initializer=initial)) #1st hidden layer with 20 inputs\n",
        "        model.add(Dense(hiddenlsize[j], activation='relu', kernel_regularizer=r)) \n",
        "        model.add(Dense(7, activation='softmax'))\n",
        "        optimize = tf.keras.optimizers.Adam(learning_rate=0.1)\n",
        "        model.compile(optimizer=optimize, loss='categorical_crossentropy', metrics=['accuracy'])\n",
        "        model.fit(x_train, y_train, epochs=100, batch_size=100, verbose=0 )\n",
        "        loss1, accuracy1 = model.evaluate(x_test,y_test, batch_size=None)\n",
        "        accuracylist1.append(accuracy1)\n",
        "    Accuracy1=np.mean(accuracylist1)\n",
        "    a1.append(Accuracy1)\n",
        "    print('Average Test_accuracy: ',Accuracy1,'when the size of hidden layer is:',hiddenlsize[j])"
      ],
      "metadata": {
        "colab": {
          "base_uri": "https://localhost:8080/"
        },
        "id": "e4_xSfIhAz-9",
        "outputId": "341987f7-8dea-4230-ec31-376d442abcba"
      },
      "execution_count": 82,
      "outputs": [
        {
          "output_type": "stream",
          "name": "stdout",
          "text": [
            "Two hidden layer\n",
            "Size of Input layer: 20\n",
            "Size of Hidden layer 5\n",
            "10/10 [==============================] - 0s 2ms/step - loss: 1.0697 - accuracy: 0.6067\n",
            "10/10 [==============================] - 0s 2ms/step - loss: 0.9159 - accuracy: 0.6200\n",
            "10/10 [==============================] - 0s 3ms/step - loss: 1.0635 - accuracy: 0.6267\n",
            "10/10 [==============================] - 0s 2ms/step - loss: 1.0463 - accuracy: 0.5933\n",
            "10/10 [==============================] - 0s 2ms/step - loss: 1.9554 - accuracy: 0.1233\n",
            "10/10 [==============================] - 0s 2ms/step - loss: 0.8051 - accuracy: 0.7767\n",
            "10/10 [==============================] - 0s 2ms/step - loss: 1.9586 - accuracy: 0.1300\n",
            "10/10 [==============================] - 0s 2ms/step - loss: 0.9429 - accuracy: 0.6300\n",
            "10/10 [==============================] - 0s 2ms/step - loss: 0.9338 - accuracy: 0.6000\n",
            "Average Test_accuracy:  0.5229629609319899 when the size of hidden layer is: 5\n",
            "Size of Input layer: 20\n",
            "Size of Hidden layer 25\n",
            "10/10 [==============================] - 0s 2ms/step - loss: 0.9424 - accuracy: 0.5933\n",
            "10/10 [==============================] - 0s 2ms/step - loss: 0.9818 - accuracy: 0.6400\n",
            "10/10 [==============================] - 0s 2ms/step - loss: 0.9228 - accuracy: 0.6533\n",
            "10/10 [==============================] - 0s 2ms/step - loss: 0.9775 - accuracy: 0.5867\n",
            "10/10 [==============================] - 0s 2ms/step - loss: 0.9466 - accuracy: 0.6467\n",
            "10/10 [==============================] - 0s 2ms/step - loss: 0.9454 - accuracy: 0.6233\n",
            "10/10 [==============================] - 0s 3ms/step - loss: 0.9750 - accuracy: 0.6200\n",
            "10/10 [==============================] - 0s 2ms/step - loss: 0.8563 - accuracy: 0.7533\n",
            "10/10 [==============================] - 0s 2ms/step - loss: 1.0336 - accuracy: 0.6167\n",
            "Average Test_accuracy:  0.5799999932448069 when the size of hidden layer is: 25\n"
          ]
        }
      ]
    },
    {
      "cell_type": "code",
      "source": [
        "# Plotting Graphs\n",
        "Accuracypl=[a[0],a1[0],a[1],a1[1]]\n",
        "model = ['[5]', '[5][5]', '[25]', '[25][25]' ]\n",
        "plt.bar(model, Accuracypl)\n",
        "plt.xlabel(\"Model\")\n",
        "plt.ylabel(\"Accuracy\")\n",
        "plt.title(\"Average Classification Accuracy vs Model\")\n",
        "plt.show()"
      ],
      "metadata": {
        "colab": {
          "base_uri": "https://localhost:8080/",
          "height": 299
        },
        "id": "9PyPniovgzwe",
        "outputId": "875c7011-455a-48db-b17e-ea0ab2f8ff77"
      },
      "execution_count": 84,
      "outputs": [
        {
          "output_type": "display_data",
          "data": {
            "text/plain": [
              "<Figure size 432x288 with 1 Axes>"
            ],
            "image/png": "[encoded data removed]"
          },
          "metadata": {}
        }
      ]
    },
    {
      "cell_type": "code",
      "source": [
        ""
      ],
      "metadata": {
        "id": "3jmSIg83hvX0"
      },
      "execution_count": null,
      "outputs": []
    }
  ]
}